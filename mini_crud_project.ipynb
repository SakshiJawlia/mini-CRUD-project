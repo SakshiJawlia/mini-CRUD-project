{
 "cells": [
  {
   "cell_type": "code",
   "execution_count": 4,
   "id": "ed2a61b6-e91e-4c65-9a18-1947993469f3",
   "metadata": {},
   "outputs": [
    {
     "ename": "ModuleNotFoundError",
     "evalue": "No module named 'mysql'",
     "output_type": "error",
     "traceback": [
      "\u001b[1;31m---------------------------------------------------------------------------\u001b[0m",
      "\u001b[1;31mModuleNotFoundError\u001b[0m                       Traceback (most recent call last)",
      "Cell \u001b[1;32mIn[4], line 1\u001b[0m\n\u001b[1;32m----> 1\u001b[0m \u001b[38;5;28;01mimport\u001b[39;00m \u001b[38;5;21;01mmysql\u001b[39;00m\u001b[38;5;21;01m.\u001b[39;00m\u001b[38;5;21;01mconnector\u001b[39;00m\n",
      "\u001b[1;31mModuleNotFoundError\u001b[0m: No module named 'mysql'"
     ]
    }
   ],
   "source": [
    "import mysql.connector"
   ]
  },
  {
   "cell_type": "code",
   "execution_count": 5,
   "id": "017ecb73-9a43-44d8-9aa1-075b5950cd83",
   "metadata": {},
   "outputs": [
    {
     "name": "stdout",
     "output_type": "stream",
     "text": [
      "Collecting mysql-connector-pythonNote: you may need to restart the kernel to use updated packages.\n",
      "\n",
      "  Downloading mysql_connector_python-9.1.0-cp313-cp313-win_amd64.whl.metadata (6.2 kB)\n",
      "Downloading mysql_connector_python-9.1.0-cp313-cp313-win_amd64.whl (16.1 MB)\n",
      "   ---------------------------------------- 0.0/16.1 MB ? eta -:--:--\n",
      "   ---------------------------------------- 0.0/16.1 MB ? eta -:--:--\n",
      "   ---------------------------------------- 0.0/16.1 MB ? eta -:--:--\n",
      "    --------------------------------------- 0.3/16.1 MB ? eta -:--:--\n",
      "   - -------------------------------------- 0.5/16.1 MB 3.5 MB/s eta 0:00:05\n",
      "   - -------------------------------------- 0.8/16.1 MB 1.7 MB/s eta 0:00:09\n",
      "   -- ------------------------------------- 1.0/16.1 MB 1.5 MB/s eta 0:00:10\n",
      "   --- ------------------------------------ 1.3/16.1 MB 1.5 MB/s eta 0:00:11\n",
      "   --- ------------------------------------ 1.6/16.1 MB 1.4 MB/s eta 0:00:11\n",
      "   ----- ---------------------------------- 2.1/16.1 MB 1.5 MB/s eta 0:00:10\n",
      "   ----- ---------------------------------- 2.4/16.1 MB 1.5 MB/s eta 0:00:10\n",
      "   ------ --------------------------------- 2.6/16.1 MB 1.5 MB/s eta 0:00:09\n",
      "   ------- -------------------------------- 3.1/16.1 MB 1.6 MB/s eta 0:00:09\n",
      "   -------- ------------------------------- 3.4/16.1 MB 1.5 MB/s eta 0:00:09\n",
      "   --------- ------------------------------ 3.9/16.1 MB 1.6 MB/s eta 0:00:08\n",
      "   ---------- ----------------------------- 4.2/16.1 MB 1.6 MB/s eta 0:00:08\n",
      "   ------------ --------------------------- 5.0/16.1 MB 1.8 MB/s eta 0:00:07\n",
      "   --------------- ------------------------ 6.0/16.1 MB 2.0 MB/s eta 0:00:05\n",
      "   ----------------- ---------------------- 7.1/16.1 MB 2.2 MB/s eta 0:00:05\n",
      "   -------------------- ------------------- 8.1/16.1 MB 2.4 MB/s eta 0:00:04\n",
      "   ---------------------- ----------------- 9.2/16.1 MB 2.5 MB/s eta 0:00:03\n",
      "   ------------------------- -------------- 10.2/16.1 MB 2.7 MB/s eta 0:00:03\n",
      "   ---------------------------- ----------- 11.3/16.1 MB 2.8 MB/s eta 0:00:02\n",
      "   ------------------------------ --------- 12.3/16.1 MB 2.9 MB/s eta 0:00:02\n",
      "   --------------------------------- ------ 13.4/16.1 MB 3.0 MB/s eta 0:00:01\n",
      "   ----------------------------------- ---- 14.4/16.1 MB 3.1 MB/s eta 0:00:01\n",
      "   -------------------------------------- - 15.5/16.1 MB 3.2 MB/s eta 0:00:01\n",
      "   ---------------------------------------  16.0/16.1 MB 3.2 MB/s eta 0:00:01\n",
      "   ---------------------------------------- 16.1/16.1 MB 3.1 MB/s eta 0:00:00\n",
      "Installing collected packages: mysql-connector-python\n",
      "Successfully installed mysql-connector-python-9.1.0\n"
     ]
    }
   ],
   "source": [
    "pip install mysql-connector-python\n"
   ]
  },
  {
   "cell_type": "code",
   "execution_count": 43,
   "id": "f3a91465-e41f-4f37-9790-b1013b48c298",
   "metadata": {},
   "outputs": [],
   "source": [
    "import mysql.connector"
   ]
  },
  {
   "cell_type": "code",
   "execution_count": 44,
   "id": "16117c99-0521-4284-9bbc-ec75fecc217c",
   "metadata": {},
   "outputs": [
    {
     "name": "stdout",
     "output_type": "stream",
     "text": [
      "Connected to database successfully!\n"
     ]
    },
    {
     "data": {
      "text/plain": [
       "<mysql.connector.connection_cext.CMySQLConnection at 0x28d2e550b90>"
      ]
     },
     "execution_count": 44,
     "metadata": {},
     "output_type": "execute_result"
    }
   ],
   "source": [
    "# Connecting to DataBase\n",
    "def connect_to_database():\n",
    "    try:\n",
    "        connection = mysql.connector.connect(\n",
    "            host=\"localhost\",       # Replace with your MySQL server host\n",
    "            user=\"root\",            # Replace with your MySQL username\n",
    "            password=\"cfg@1234\", # Replace with your MySQL password\n",
    "            database=\"company\"      # Replace with your database name\n",
    "        )\n",
    "        print(\"Connected to database successfully!\")\n",
    "        return connection\n",
    "    except mysql.connector.Error as e:\n",
    "        print(\"Error connecting to MySQL:\", e)\n",
    "        return None\n",
    "\n",
    "connect_to_database()"
   ]
  },
  {
   "cell_type": "code",
   "execution_count": 74,
   "id": "bbfd3020-d9c9-4d0f-bbcf-849b8e646ffa",
   "metadata": {},
   "outputs": [],
   "source": [
    "# CRUD OPERATIONS\n",
    "# Creating Employee \n",
    "def add_employee(connection):\n",
    "    cursor = connection.cursor()\n",
    "    ID=input(\"Enter employee ID: \")\n",
    "    name = input(\"Enter employee name: \")\n",
    "    department = input(\"Enter department: \")\n",
    "    salary = input(\"Enter salary: \")\n",
    "    query = \"INSERT INTO employee (ID,name, department, salary) VALUES (%s, %s, %s, %s)\"\n",
    "    cursor.execute(query, (ID,name, department, salary))\n",
    "    connection.commit()\n",
    "    print(\"Employee added successfully!\")\n"
   ]
  },
  {
   "cell_type": "code",
   "execution_count": 75,
   "id": "74a1031e-b856-4c33-9d9f-dfc9c42a3b16",
   "metadata": {},
   "outputs": [],
   "source": [
    "# Reading Employess from DataBase\n",
    "def view_employees(connection):\n",
    "    cursor = connection.cursor()\n",
    "    cursor.execute(\"SELECT * FROM employee\")\n",
    "    records = cursor.fetchall()\n",
    "    print(\"\\nEmployee Records:\")\n",
    "    print(\"ID | Name | Department | Salary\")\n",
    "    for row in records:\n",
    "        print(f\"{row[0]} | {row[1]} | {row[2]} | {row[3]}\")\n",
    "    print()"
   ]
  },
  {
   "cell_type": "code",
   "execution_count": 76,
   "id": "456a14b2-9fb0-4488-afbf-94f7bf31f8dc",
   "metadata": {},
   "outputs": [],
   "source": [
    "# Updating Employees \n",
    "def update_employee(connection):\n",
    "    cursor = connection.cursor()\n",
    "    emp_id = input(\"Enter employee ID to update: \")\n",
    "    print(\"1. Update Department\\n2. Update Salary\\n3. Update Both\")\n",
    "    choice = input(\"Select an option: \")\n",
    "\n",
    "    if choice == \"1\":\n",
    "        department = input(\"Enter new department: \")\n",
    "        query = \"UPDATE employee SET department = %s WHERE id = %s\"\n",
    "        cursor.execute(query, (department, emp_id))\n",
    "    elif choice == \"2\":\n",
    "        salary = input(\"Enter new salary: \")\n",
    "        query = \"UPDATE employee SET salary = %s WHERE id = %s\"\n",
    "        cursor.execute(query, (salary, emp_id))\n",
    "    elif choice == \"3\":\n",
    "        department = input(\"Enter new department: \")\n",
    "        salary = input(\"Enter new salary: \")\n",
    "        query = \"UPDATE employee SET department = %s, salary = %s WHERE id = %s\"\n",
    "        cursor.execute(query, (department, salary, emp_id))\n",
    "    else:\n",
    "        print(\"Invalid choice!\")\n",
    "        return\n",
    "\n",
    "    connection.commit()\n",
    "    print(\"Employee record updated successfully!\")"
   ]
  },
  {
   "cell_type": "code",
   "execution_count": 77,
   "id": "b36e297c-93b0-47a6-8dda-ee619b9bd707",
   "metadata": {},
   "outputs": [],
   "source": [
    "# Deleting Employees form DataBase\n",
    "def delete_employee(connection):\n",
    "    cursor = connection.cursor()\n",
    "    emp_id = input(\"Enter employee ID to delete: \")\n",
    "    query = \"DELETE FROM employee WHERE id = %s\"\n",
    "    cursor.execute(query, (emp_id,))\n",
    "    connection.commit()\n",
    "    print(\"Employee deleted successfully!\")\n"
   ]
  },
  {
   "cell_type": "code",
   "execution_count": 83,
   "id": "1dfe4f10-fbc3-4a64-ae28-9686ddd64d8a",
   "metadata": {},
   "outputs": [],
   "source": [
    "# Deleting ALL Employees form DataBase\n",
    "def delete_all_employees(connection):\n",
    "    cursor = connection.cursor()\n",
    "    query = \"DELETE FROM employee\"\n",
    "    cursor.execute(query)\n",
    "    connection.commit()\n",
    "    print(\"ALL Employees deleted successfully!\")\n"
   ]
  },
  {
   "cell_type": "code",
   "execution_count": 84,
   "id": "93e62834-997c-48d4-96cd-7e46f9a6417e",
   "metadata": {},
   "outputs": [],
   "source": [
    "# Main Program Logic\n",
    "def main():\n",
    "    connection = connect_to_database()\n",
    "    if not connection:\n",
    "        return\n",
    "    \n",
    "    while True:\n",
    "        print(\"\\nEmployee Management System\")\n",
    "        print(\"1. Add Employee\")\n",
    "        print(\"2. View Employees\")\n",
    "        print(\"3. Update Employee\")\n",
    "        print(\"4. Delete Employee\")\n",
    "        print(\"5. Delete all Employees\")\n",
    "        print(\"6. Exit\")\n",
    "        \n",
    "        choice = input(\"Select an option: \")\n",
    "\n",
    "        if choice == \"1\":\n",
    "            add_employee(connection)\n",
    "        elif choice == \"2\":\n",
    "            view_employees(connection)\n",
    "        elif choice == \"3\":\n",
    "            update_employee(connection)\n",
    "        elif choice == \"4\":\n",
    "            delete_employee(connection)\n",
    "        elif choice == \"5\":\n",
    "            delete_all_employees(connection)\n",
    "        elif choice == \"6\":\n",
    "            print(\"Exiting program...\")\n",
    "            connection.close()\n",
    "            break\n",
    "        else:\n",
    "            print(\"Invalid choice! Please try again.\")"
   ]
  },
  {
   "cell_type": "code",
   "execution_count": 93,
   "id": "3f59a29a-ce03-4e68-b8a0-31953cc2c478",
   "metadata": {},
   "outputs": [
    {
     "name": "stdout",
     "output_type": "stream",
     "text": [
      "Connected to database successfully!\n",
      "\n",
      "Employee Management System\n",
      "1. Add Employee\n",
      "2. View Employees\n",
      "3. Update Employee\n",
      "4. Delete Employee\n",
      "5. Delete all Employees\n",
      "6. Exit\n"
     ]
    },
    {
     "name": "stdin",
     "output_type": "stream",
     "text": [
      "Select an option:  1\n",
      "Enter employee ID:  1\n",
      "Enter employee name:  Sakshi\n",
      "Enter department:  Data Engineer\n",
      "Enter salary:  30000\n"
     ]
    },
    {
     "name": "stdout",
     "output_type": "stream",
     "text": [
      "Employee added successfully!\n",
      "\n",
      "Employee Management System\n",
      "1. Add Employee\n",
      "2. View Employees\n",
      "3. Update Employee\n",
      "4. Delete Employee\n",
      "5. Delete all Employees\n",
      "6. Exit\n"
     ]
    },
    {
     "name": "stdin",
     "output_type": "stream",
     "text": [
      "Select an option:  1\n",
      "Enter employee ID:  2\n",
      "Enter employee name:  Tushar\n",
      "Enter department:  SDE 2\n",
      "Enter salary:  50000\n"
     ]
    },
    {
     "name": "stdout",
     "output_type": "stream",
     "text": [
      "Employee added successfully!\n",
      "\n",
      "Employee Management System\n",
      "1. Add Employee\n",
      "2. View Employees\n",
      "3. Update Employee\n",
      "4. Delete Employee\n",
      "5. Delete all Employees\n",
      "6. Exit\n"
     ]
    },
    {
     "name": "stdin",
     "output_type": "stream",
     "text": [
      "Select an option:  1\n",
      "Enter employee ID:  3\n",
      "Enter employee name:  Sushil\n",
      "Enter department:  IT\n",
      "Enter salary:  40000\n"
     ]
    },
    {
     "name": "stdout",
     "output_type": "stream",
     "text": [
      "Employee added successfully!\n",
      "\n",
      "Employee Management System\n",
      "1. Add Employee\n",
      "2. View Employees\n",
      "3. Update Employee\n",
      "4. Delete Employee\n",
      "5. Delete all Employees\n",
      "6. Exit\n"
     ]
    },
    {
     "name": "stdin",
     "output_type": "stream",
     "text": [
      "Select an option:  1\n",
      "Enter employee ID:  4\n",
      "Enter employee name:  Riya\n",
      "Enter department:  HR\n",
      "Enter salary:  45000\n"
     ]
    },
    {
     "name": "stdout",
     "output_type": "stream",
     "text": [
      "Employee added successfully!\n",
      "\n",
      "Employee Management System\n",
      "1. Add Employee\n",
      "2. View Employees\n",
      "3. Update Employee\n",
      "4. Delete Employee\n",
      "5. Delete all Employees\n",
      "6. Exit\n"
     ]
    },
    {
     "name": "stdin",
     "output_type": "stream",
     "text": [
      "Select an option:  2\n"
     ]
    },
    {
     "name": "stdout",
     "output_type": "stream",
     "text": [
      "\n",
      "Employee Records:\n",
      "ID | Name | Department | Salary\n",
      "1 | Sakshi | Data Engineer | 30000.00\n",
      "2 | Tushar | SDE 2 | 50000.00\n",
      "3 | Sushil | IT | 40000.00\n",
      "4 | Riya | HR | 45000.00\n",
      "\n",
      "\n",
      "Employee Management System\n",
      "1. Add Employee\n",
      "2. View Employees\n",
      "3. Update Employee\n",
      "4. Delete Employee\n",
      "5. Delete all Employees\n",
      "6. Exit\n"
     ]
    },
    {
     "name": "stdin",
     "output_type": "stream",
     "text": [
      "Select an option:  3\n",
      "Enter employee ID to update:  1\n"
     ]
    },
    {
     "name": "stdout",
     "output_type": "stream",
     "text": [
      "1. Update Department\n",
      "2. Update Salary\n",
      "3. Update Both\n"
     ]
    },
    {
     "name": "stdin",
     "output_type": "stream",
     "text": [
      "Select an option:  3\n",
      "Enter new department:  Data Science\n",
      "Enter new salary:  55000\n"
     ]
    },
    {
     "name": "stdout",
     "output_type": "stream",
     "text": [
      "Employee record updated successfully!\n",
      "\n",
      "Employee Management System\n",
      "1. Add Employee\n",
      "2. View Employees\n",
      "3. Update Employee\n",
      "4. Delete Employee\n",
      "5. Delete all Employees\n",
      "6. Exit\n"
     ]
    },
    {
     "name": "stdin",
     "output_type": "stream",
     "text": [
      "Select an option:  2\n"
     ]
    },
    {
     "name": "stdout",
     "output_type": "stream",
     "text": [
      "\n",
      "Employee Records:\n",
      "ID | Name | Department | Salary\n",
      "1 | Sakshi | Data Science | 55000.00\n",
      "2 | Tushar | SDE 2 | 50000.00\n",
      "3 | Sushil | IT | 40000.00\n",
      "4 | Riya | HR | 45000.00\n",
      "\n",
      "\n",
      "Employee Management System\n",
      "1. Add Employee\n",
      "2. View Employees\n",
      "3. Update Employee\n",
      "4. Delete Employee\n",
      "5. Delete all Employees\n",
      "6. Exit\n"
     ]
    },
    {
     "name": "stdin",
     "output_type": "stream",
     "text": [
      "Select an option:  4\n",
      "Enter employee ID to delete:  3\n"
     ]
    },
    {
     "name": "stdout",
     "output_type": "stream",
     "text": [
      "Employee deleted successfully!\n",
      "\n",
      "Employee Management System\n",
      "1. Add Employee\n",
      "2. View Employees\n",
      "3. Update Employee\n",
      "4. Delete Employee\n",
      "5. Delete all Employees\n",
      "6. Exit\n"
     ]
    },
    {
     "name": "stdin",
     "output_type": "stream",
     "text": [
      "Select an option:  2\n"
     ]
    },
    {
     "name": "stdout",
     "output_type": "stream",
     "text": [
      "\n",
      "Employee Records:\n",
      "ID | Name | Department | Salary\n",
      "1 | Sakshi | Data Science | 55000.00\n",
      "2 | Tushar | SDE 2 | 50000.00\n",
      "4 | Riya | HR | 45000.00\n",
      "\n",
      "\n",
      "Employee Management System\n",
      "1. Add Employee\n",
      "2. View Employees\n",
      "3. Update Employee\n",
      "4. Delete Employee\n",
      "5. Delete all Employees\n",
      "6. Exit\n"
     ]
    },
    {
     "name": "stdin",
     "output_type": "stream",
     "text": [
      "Select an option:  5\n"
     ]
    },
    {
     "name": "stdout",
     "output_type": "stream",
     "text": [
      "ALL Employees deleted successfully!\n",
      "\n",
      "Employee Management System\n",
      "1. Add Employee\n",
      "2. View Employees\n",
      "3. Update Employee\n",
      "4. Delete Employee\n",
      "5. Delete all Employees\n",
      "6. Exit\n"
     ]
    },
    {
     "name": "stdin",
     "output_type": "stream",
     "text": [
      "Select an option:  6\n"
     ]
    },
    {
     "name": "stdout",
     "output_type": "stream",
     "text": [
      "Exiting program...\n"
     ]
    }
   ],
   "source": [
    "main()"
   ]
  },
  {
   "cell_type": "code",
   "execution_count": null,
   "id": "16924cd7-89aa-4b0d-a075-ee2d25710cd6",
   "metadata": {},
   "outputs": [],
   "source": []
  }
 ],
 "metadata": {
  "kernelspec": {
   "display_name": "Python 3 (ipykernel)",
   "language": "python",
   "name": "python3"
  },
  "language_info": {
   "codemirror_mode": {
    "name": "ipython",
    "version": 3
   },
   "file_extension": ".py",
   "mimetype": "text/x-python",
   "name": "python",
   "nbconvert_exporter": "python",
   "pygments_lexer": "ipython3",
   "version": "3.13.1"
  }
 },
 "nbformat": 4,
 "nbformat_minor": 5
}
